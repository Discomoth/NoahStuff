{
 "cells": [
  {
   "cell_type": "code",
   "execution_count": 1,
   "metadata": {},
   "outputs": [],
   "source": [
    "\n",
    "class Jizzum:\n",
    "\n",
    "    def __init__(self, thorax:str, necrosis:int) -> None:\n",
    "        self._thorax = self._necrosis = None\n",
    "        self.thorax = thorax\n",
    "        self.necrosis = necrosis\n",
    "\n",
    "    @property\n",
    "    def thorax(self) -> str:\n",
    "        return self._thorax\n",
    "    @thorax.setter\n",
    "    def thorax(self, thorax_value: str) -> None:\n",
    "        print(f\"HAHA, you said {thorax_value}!!!\")\n",
    "        if thorax_value.islower():\n",
    "            raise ZeroDivisionError(\"You have a small Thorax!\")\n",
    "        elif thorax_value.isupper():\n",
    "            raise OverflowError(\"You have a MASSIVE thorax!\")\n",
    "        else:\n",
    "            print(\"You have an alarmingly average thorax\")\n",
    "        self._thorax = thorax_value\n",
    "\n",
    "    @property\n",
    "    def necrosis(self) -> int:\n",
    "        return self._necrosis\n",
    "    @necrosis.setter\n",
    "    def necrosis(self, necrosis_value:int) -> None:\n",
    "        if 1 <= necrosis_value <= 10:\n",
    "            if 1 <= necrosis_value <= 3:\n",
    "                raise BrokenPipeError(\"You should get that checked out!\")\n",
    "            elif 4 <= necrosis_value <= 7:\n",
    "                for x in range(1, 100):\n",
    "                    print(\"ARE YOU FEELING OKAY????\")\n",
    "                raise RecursionError(\"Are you feeling okay?\")\n",
    "            else:\n",
    "                raise EOFError(\"Your end is neigh(NEIGHHHHHHH)\")\n",
    "        else:\n",
    "            print(\"Is YOUR flesh dripping??\")\n",
    "            self._necrosis = necrosis_value\n",
    "\n",
    "            "
   ]
  },
  {
   "cell_type": "code",
   "execution_count": 3,
   "metadata": {},
   "outputs": [
    {
     "name": "stdout",
     "output_type": "stream",
     "text": [
      "HAHA, you said Scrumption!!!\n",
      "You have an alarmingly average thorax\n",
      "Is YOUR flesh dripping??\n"
     ]
    }
   ],
   "source": [
    "jizzy = Jizzum(\"Scrumption\", 11)"
   ]
  },
  {
   "cell_type": "code",
   "execution_count": 6,
   "metadata": {},
   "outputs": [
    {
     "name": "stdout",
     "output_type": "stream",
     "text": [
      "11\n",
      "Is YOUR flesh dripping??\n",
      "15\n"
     ]
    }
   ],
   "source": [
    "print(jizzy.necrosis)\n",
    "jizzy.necrosis = 15\n",
    "print(jizzy.necrosis)"
   ]
  },
  {
   "cell_type": "code",
   "execution_count": 10,
   "metadata": {},
   "outputs": [
    {
     "name": "stdout",
     "output_type": "stream",
     "text": [
      "104.2020583\n"
     ]
    }
   ],
   "source": [
    "jizzy.danglythang = 104.2020583\n",
    "print(jizzy.danglythang)"
   ]
  },
  {
   "cell_type": "code",
   "execution_count": 11,
   "metadata": {},
   "outputs": [],
   "source": [
    "class NoahStuff:\n",
    "\n",
    "    def __init__(self, test_string:str, test_float:float) -> None:\n",
    "        \n",
    "        self.string_value = test_string\n",
    "        self.float_value = test_float\n",
    "\n",
    "    def reciprocate(self) -> float:\n",
    "        \"\"\"\n",
    "        Adds 69 to the class float attribute and returns the new number.\n",
    "        \"\"\"\n",
    "        # Add to float attribute\n",
    "        self.float_value = self.float_value + 69 # lol\n",
    "        \n",
    "        # Return the value\n",
    "        return self.float_value\n",
    "\n",
    "    @staticmethod\n",
    "    def thingy(a:int, b:int) -> int:\n",
    "        return int(a + b)\n"
   ]
  },
  {
   "cell_type": "code",
   "execution_count": 16,
   "metadata": {},
   "outputs": [],
   "source": [
    "nerah = NoahStuff(\"Blah!\", 69.6969420)\n",
    "nerah2 = NoahStuff(\"Blah!\", 69.6969420)"
   ]
  },
  {
   "cell_type": "code",
   "execution_count": 17,
   "metadata": {},
   "outputs": [
    {
     "data": {
      "text/plain": [
       "138.696942"
      ]
     },
     "execution_count": 17,
     "metadata": {},
     "output_type": "execute_result"
    }
   ],
   "source": [
    "nerah.reciprocate()"
   ]
  },
  {
   "cell_type": "code",
   "execution_count": 18,
   "metadata": {},
   "outputs": [
    {
     "data": {
      "text/plain": [
       "138.696942"
      ]
     },
     "execution_count": 18,
     "metadata": {},
     "output_type": "execute_result"
    }
   ],
   "source": [
    "nerah.float_value"
   ]
  },
  {
   "cell_type": "code",
   "execution_count": 19,
   "metadata": {},
   "outputs": [
    {
     "data": {
      "text/plain": [
       "69.696942"
      ]
     },
     "execution_count": 19,
     "metadata": {},
     "output_type": "execute_result"
    }
   ],
   "source": [
    "nerah2.float_value"
   ]
  }
 ],
 "metadata": {
  "kernelspec": {
   "display_name": "Python 3",
   "language": "python",
   "name": "python3"
  },
  "language_info": {
   "codemirror_mode": {
    "name": "ipython",
    "version": 3
   },
   "file_extension": ".py",
   "mimetype": "text/x-python",
   "name": "python",
   "nbconvert_exporter": "python",
   "pygments_lexer": "ipython3",
   "version": "3.10.12"
  }
 },
 "nbformat": 4,
 "nbformat_minor": 2
}
